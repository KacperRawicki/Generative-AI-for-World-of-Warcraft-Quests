{
 "nbformat": 4,
 "nbformat_minor": 0,
 "metadata": {
  "colab": {
   "provenance": [],
   "gpuType": "T4"
  },
  "kernelspec": {
   "name": "python3",
   "language": "python",
   "display_name": "Python 3 (ipykernel)"
  },
  "language_info": {
   "name": "python"
  },
  "accelerator": "GPU"
 },
 "cells": [
  {
   "cell_type": "markdown",
   "source": [
    "# Getting data from the API"
   ],
   "metadata": {
    "collapsed": false
   }
  },
  {
   "cell_type": "code",
   "execution_count": 6,
   "outputs": [],
   "source": [
    "import requests\n",
    "import pandas as pd"
   ],
   "metadata": {
    "collapsed": false,
    "ExecuteTime": {
     "end_time": "2023-08-21T09:00:38.445991400Z",
     "start_time": "2023-08-21T09:00:38.002689600Z"
    }
   }
  },
  {
   "cell_type": "code",
   "execution_count": 3,
   "outputs": [],
   "source": [
    "#Add your API token\n",
    "token = ''"
   ],
   "metadata": {
    "collapsed": false,
    "ExecuteTime": {
     "end_time": "2023-08-21T08:59:27.857186Z",
     "start_time": "2023-08-21T08:59:27.841123500Z"
    }
   }
  },
  {
   "cell_type": "markdown",
   "source": [
    "### Example request"
   ],
   "metadata": {
    "collapsed": false
   }
  },
  {
   "cell_type": "code",
   "source": [
    "response_quest = requests.get(f'https://eu.api.blizzard.com/data/wow/quest/2?namespace=static-eu&locale=en_US&access_token={token}')\n",
    "response_quest.json()"
   ],
   "metadata": {
    "colab": {
     "base_uri": "https://localhost:8080/"
    },
    "id": "xo9YXLvvx26h",
    "outputId": "0201c579-9ee8-462e-9122-85b8457aedf4",
    "ExecuteTime": {
     "end_time": "2023-08-21T08:59:31.408147200Z",
     "start_time": "2023-08-21T08:59:30.835158Z"
    }
   },
   "execution_count": 4,
   "outputs": [
    {
     "data": {
      "text/plain": "{'_links': {'self': {'href': 'https://eu.api.blizzard.com/data/wow/quest/2?namespace=static-10.1.5_50232-eu'}},\n 'id': 2,\n 'title': \"Sharptalon's Claw\",\n 'area': {'key': {'href': 'https://eu.api.blizzard.com/data/wow/quest/area/331?namespace=static-10.1.5_50232-eu'},\n  'name': 'Ashenvale',\n  'id': 331},\n 'description': 'The mighty hippogryph Sharptalon has been slain, with the claw of the felled beast serving as a testament to your victory.\\n\\nSenani Thunderheart at the Silverwind Refuge will no doubt be interested in seeing this trophy as proof of your deeds.',\n 'requirements': {'min_character_level': 7,\n  'max_character_level': 30,\n  'faction': {'type': 'HORDE', 'name': 'Horde'}},\n 'rewards': {'experience': 4100,\n  'reputations': [{'reward': {'key': {'href': 'https://eu.api.blizzard.com/data/wow/reputation-faction/76?namespace=static-10.1.5_50232-eu'},\n     'name': 'Orgrimmar',\n     'id': 76},\n    'value': 250}],\n  'money': {'value': 105000,\n   'units': {'gold': 10, 'silver': 50, 'copper': 0}}}}"
     },
     "execution_count": 4,
     "metadata": {},
     "output_type": "execute_result"
    }
   ]
  },
  {
   "cell_type": "code",
   "source": [
    "for i in range(1, 20):  #Go through IDs 1-19\n",
    "    quest = requests.get(f'https://eu.api.blizzard.com/data/wow/quest/{i}?namespace=static-eu&locale=en_US&access_token={token}').json()\n",
    "    try:\n",
    "        print('Title: ', quest['title'])\n",
    "        print('Description: ', quest['description'])\n",
    "        print('ID: ',i)\n",
    "    except:\n",
    "        print(f'No such quest! ID:{i}')"
   ],
   "metadata": {
    "colab": {
     "base_uri": "https://localhost:8080/"
    },
    "id": "GuqcRbZyx4l9",
    "outputId": "0706adee-4136-4321-8d7b-91cf3ac18326",
    "ExecuteTime": {
     "end_time": "2023-08-21T09:00:09.760291100Z",
     "start_time": "2023-08-21T09:00:07.627311100Z"
    }
   },
   "execution_count": 5,
   "outputs": [
    {
     "name": "stdout",
     "output_type": "stream",
     "text": [
      "No such quest! ID:1\n",
      "Title:  Sharptalon's Claw\n",
      "Description:  The mighty hippogryph Sharptalon has been slain, with the claw of the felled beast serving as a testament to your victory.\n",
      "\n",
      "Senani Thunderheart at the Silverwind Refuge will no doubt be interested in seeing this trophy as proof of your deeds.\n",
      "ID:  2\n",
      "No such quest! ID:3\n",
      "No such quest! ID:4\n",
      "No such quest! ID:5\n",
      "No such quest! ID:6\n",
      "No such quest! ID:7\n",
      "No such quest! ID:8\n",
      "No such quest! ID:9\n",
      "No such quest! ID:10\n",
      "Title:  Riverpaw Gnoll Bounty\n",
      "Description:  Gnolls, brutish creatures with no decent business in these lands, have been seen along the borders of Elwynn Forest.  A large pack of them, many more than we can handle alone, have infested the woods south of the guard tower yonder.  Another group has infested the areas near Stone Cairn Lake to the east.\n",
      "\n",
      "The Stormwind Army will commend whomever helps kill them.  Bring me their painted gnoll armbands as proof of your deed.\n",
      "ID:  11\n",
      "No such quest! ID:12\n",
      "No such quest! ID:13\n",
      "No such quest! ID:14\n",
      "No such quest! ID:15\n",
      "Title:  Give Gerard a Drink\n",
      "Description:  Farming is thirsty work, and I'm always looking for refreshing spring water.\n",
      "\n",
      "If you have any, then I'm willing to make a trade.\n",
      "ID:  16\n",
      "No such quest! ID:17\n",
      "No such quest! ID:18\n",
      "No such quest! ID:19\n"
     ]
    }
   ]
  },
  {
   "cell_type": "markdown",
   "source": [
    "###### Note that most IDs do not have a corresponding quest"
   ],
   "metadata": {
    "collapsed": false
   }
  },
  {
   "cell_type": "markdown",
   "source": [
    "### Get data in segments of 10,000, getting 8 files"
   ],
   "metadata": {
    "collapsed": false
   }
  },
  {
   "cell_type": "code",
   "source": [
    "quest_ids = []  #list of quest ids\n",
    "quest_dict = {} #dictionary with titles and descriptions\n",
    "for i in range(1, 10001):\n",
    "    if (i % 100) == 0:  #print a marker every 100 quests to keep track of the loop\n",
    "        print(i)\n",
    "    response = requests.get(f'https://eu.api.blizzard.com/data/wow/quest/{i}?namespace=static-eu&locale=en_US&access_token={token}')\n",
    "    if response.status_code == 200: #only interested in good responses\n",
    "      try:\n",
    "        title = response.json()['title']\n",
    "      except:\n",
    "        title = ''\n",
    "      try:\n",
    "        description  = response.json()['description']\n",
    "      except:\n",
    "        description = ''\n",
    "      quest_dict[i] = {'Title': title, 'Description': description}\n",
    "      quest_ids.append(i)"
   ],
   "metadata": {
    "id": "zMIHegq783Bg"
   },
   "execution_count": null,
   "outputs": []
  },
  {
   "cell_type": "markdown",
   "source": [
    "##### Save as csv"
   ],
   "metadata": {
    "collapsed": false
   }
  },
  {
   "cell_type": "code",
   "source": [
    "pd.DataFrame(quest_ids).to_csv('colab_id_list_1.csv')\n",
    "pd.DataFrame(quest_dict).to_csv('colab_dict_list_1.csv')"
   ],
   "metadata": {
    "id": "SCX7OT--rAdO"
   },
   "execution_count": null,
   "outputs": []
  },
  {
   "cell_type": "markdown",
   "source": [
    "##### Repeat for remaining quests\n",
    "##### Note that we only search for IDs up to 78,000. In the future quest IDs will become out of reach for this code."
   ],
   "metadata": {
    "collapsed": false
   }
  },
  {
   "cell_type": "code",
   "source": [
    "quest_ids = []\n",
    "quest_dict = {}\n",
    "for i in range(10001, 20001):\n",
    "    if (i % 100) == 0:\n",
    "      print(i)\n",
    "    response = requests.get(f'https://eu.api.blizzard.com/data/wow/quest/{i}?namespace=static-eu&locale=en_US&access_token={token}')\n",
    "    if response.status_code == 200:\n",
    "      try:\n",
    "        title = response.json()['title']\n",
    "      except:\n",
    "        title = ''\n",
    "      try:\n",
    "        description  = response.json()['description']\n",
    "      except:\n",
    "        description = ''\n",
    "      quest_dict[i] = {'Title': title, 'Description': description}\n",
    "      quest_ids.append(i)"
   ],
   "metadata": {
    "colab": {
     "base_uri": "https://localhost:8080/"
    },
    "id": "-7_yRJGc-Y0e",
    "outputId": "8a8a4e99-c17c-4854-c3be-6691e9200b32"
   },
   "execution_count": null,
   "outputs": [
    {
     "output_type": "stream",
     "name": "stdout",
     "text": [
      "17800\n",
      "17900\n",
      "18000\n",
      "18100\n",
      "18200\n",
      "18300\n",
      "18400\n",
      "18500\n",
      "18600\n",
      "18700\n",
      "18800\n",
      "18900\n",
      "19000\n",
      "19100\n",
      "19200\n",
      "19300\n",
      "19400\n",
      "19500\n",
      "19600\n",
      "19700\n",
      "19800\n",
      "19900\n",
      "20000\n"
     ]
    }
   ]
  },
  {
   "cell_type": "code",
   "source": [
    "pd.DataFrame(quest_ids).to_csv('colab_id_list_2.csv')\n",
    "pd.DataFrame(quest_dict).to_csv('colab_dict_list_2.csv')"
   ],
   "metadata": {
    "id": "ryTXtZ7IrUaL"
   },
   "execution_count": null,
   "outputs": []
  },
  {
   "cell_type": "code",
   "source": [
    "quest_ids = []\n",
    "quest_dict = {}\n",
    "for i in range(20001, 30001):\n",
    "    if (i % 100) == 0:\n",
    "      print(i)\n",
    "    response = requests.get(f'https://eu.api.blizzard.com/data/wow/quest/{i}?namespace=static-eu&locale=en_US&access_token={token}')\n",
    "    if response.status_code == 200:\n",
    "      try:\n",
    "        title = response.json()['title']\n",
    "      except:\n",
    "        title = ''\n",
    "      try:\n",
    "        description  = response.json()['description']\n",
    "      except:\n",
    "        description = ''\n",
    "      quest_dict[i] = {'Title': title, 'Description': description}\n",
    "      quest_ids.append(i)"
   ],
   "metadata": {
    "colab": {
     "base_uri": "https://localhost:8080/"
    },
    "id": "L6EidBC7-YuJ",
    "outputId": "322ef147-0767-4123-eff4-487cc204b30c"
   },
   "execution_count": null,
   "outputs": [
    {
     "output_type": "stream",
     "name": "stdout",
     "text": [
      "28200\n",
      "28300\n",
      "28400\n",
      "28500\n",
      "28600\n",
      "28700\n",
      "28800\n",
      "28900\n",
      "29000\n",
      "29100\n",
      "29200\n",
      "29300\n",
      "29400\n",
      "29500\n",
      "29600\n",
      "29700\n",
      "29800\n",
      "29900\n",
      "30000\n"
     ]
    }
   ]
  },
  {
   "cell_type": "code",
   "source": [
    "pd.DataFrame(quest_ids).to_csv('colab_id_list_3.csv')\n",
    "pd.DataFrame(quest_dict).to_csv('colab_dict_list_3.csv')"
   ],
   "metadata": {
    "id": "0pGO7Fc-rWc4"
   },
   "execution_count": null,
   "outputs": []
  },
  {
   "cell_type": "code",
   "source": [
    "quest_ids = []\n",
    "quest_dict = {}\n",
    "for i in range(30001, 40001):\n",
    "    if (i % 100) == 0:\n",
    "      print(i)\n",
    "    response = requests.get(f'https://eu.api.blizzard.com/data/wow/quest/{i}?namespace=static-eu&locale=en_US&access_token={token}')\n",
    "    if response.status_code == 200:\n",
    "      try:\n",
    "        title = response.json()['title']\n",
    "      except:\n",
    "        title = ''\n",
    "      try:\n",
    "        description  = response.json()['description']\n",
    "      except:\n",
    "        description = ''\n",
    "      quest_dict[i] = {'Title': title, 'Description': description}\n",
    "      quest_ids.append(i)"
   ],
   "metadata": {
    "colab": {
     "base_uri": "https://localhost:8080/"
    },
    "id": "DZ-cpqxaqtoT",
    "outputId": "18ceb65b-b221-42f2-ee58-949838700f7c"
   },
   "execution_count": null,
   "outputs": [
    {
     "output_type": "stream",
     "name": "stdout",
     "text": [
      "30100\n",
      "30200\n",
      "30300\n",
      "30400\n",
      "30500\n",
      "30600\n",
      "30700\n",
      "30800\n",
      "30900\n",
      "31000\n",
      "31100\n",
      "31200\n",
      "31300\n",
      "31400\n",
      "31500\n",
      "31600\n",
      "31700\n",
      "31800\n",
      "31900\n",
      "32000\n",
      "32100\n",
      "32200\n",
      "32300\n",
      "32400\n",
      "32500\n",
      "32600\n",
      "32700\n",
      "32800\n",
      "32900\n",
      "33000\n",
      "33100\n",
      "33200\n",
      "33300\n",
      "33400\n",
      "33500\n",
      "33600\n",
      "33700\n",
      "33800\n",
      "33900\n",
      "34000\n",
      "34100\n",
      "34200\n",
      "34300\n",
      "34400\n",
      "34500\n",
      "34600\n",
      "34700\n",
      "34800\n",
      "34900\n",
      "35000\n",
      "35100\n",
      "35200\n",
      "35300\n",
      "35400\n",
      "35500\n",
      "35600\n",
      "35700\n",
      "35800\n",
      "35900\n",
      "36000\n",
      "36100\n",
      "36200\n",
      "36300\n",
      "36400\n",
      "36500\n",
      "36600\n",
      "36700\n",
      "36800\n",
      "36900\n",
      "37000\n",
      "37100\n",
      "37200\n",
      "37300\n",
      "37400\n",
      "37500\n",
      "37600\n",
      "37700\n",
      "37800\n",
      "37900\n",
      "38000\n",
      "38100\n",
      "38200\n",
      "38300\n",
      "38400\n",
      "38500\n",
      "38600\n",
      "38700\n",
      "38800\n",
      "38900\n",
      "39000\n",
      "39100\n",
      "39200\n",
      "39300\n",
      "39400\n",
      "39500\n",
      "39600\n",
      "39700\n",
      "39800\n",
      "39900\n",
      "40000\n"
     ]
    }
   ]
  },
  {
   "cell_type": "code",
   "source": [
    "pd.DataFrame(quest_ids).to_csv('colab_id_list_4.csv')\n",
    "pd.DataFrame(quest_dict).to_csv('colab_dict_list_4.csv')"
   ],
   "metadata": {
    "id": "CUG56AblrX2R"
   },
   "execution_count": null,
   "outputs": []
  },
  {
   "cell_type": "code",
   "source": [
    "quest_ids = []\n",
    "quest_dict = {}\n",
    "for i in range(40001, 50001):\n",
    "    if (i % 100) == 0:\n",
    "      print(i)\n",
    "    response = requests.get(f'https://eu.api.blizzard.com/data/wow/quest/{i}?namespace=static-eu&locale=en_US&access_token={token}')\n",
    "    if response.status_code == 200:\n",
    "      try:\n",
    "        title = response.json()['title']\n",
    "      except:\n",
    "        title = ''\n",
    "      try:\n",
    "        description  = response.json()['description']\n",
    "      except:\n",
    "        description = ''\n",
    "      quest_dict[i] = {'Title': title, 'Description': description}\n",
    "      quest_ids.append(i)"
   ],
   "metadata": {
    "id": "C7gEao2TqtlR",
    "colab": {
     "base_uri": "https://localhost:8080/"
    },
    "outputId": "9284e60c-185f-4d6c-98d4-c2a0b1deb232"
   },
   "execution_count": null,
   "outputs": [
    {
     "output_type": "stream",
     "name": "stdout",
     "text": [
      "40100\n",
      "40200\n",
      "40300\n",
      "40400\n",
      "40500\n",
      "40600\n",
      "40700\n",
      "40800\n",
      "40900\n",
      "41000\n",
      "41100\n",
      "41200\n",
      "41300\n",
      "41400\n",
      "41500\n",
      "41600\n",
      "41700\n",
      "41800\n",
      "41900\n",
      "42000\n",
      "42100\n",
      "42200\n",
      "42300\n",
      "42400\n",
      "42500\n",
      "42600\n",
      "42700\n",
      "42800\n",
      "42900\n",
      "43000\n",
      "43100\n",
      "43200\n",
      "43300\n",
      "43400\n",
      "43500\n",
      "43600\n",
      "43700\n",
      "43800\n",
      "43900\n",
      "44000\n",
      "44100\n",
      "44200\n",
      "44300\n",
      "44400\n",
      "44500\n",
      "44600\n",
      "44700\n",
      "44800\n",
      "44900\n",
      "45000\n",
      "45100\n",
      "45200\n",
      "45300\n",
      "45400\n",
      "45500\n",
      "45600\n",
      "45700\n",
      "45800\n",
      "45900\n",
      "46000\n",
      "46100\n",
      "46200\n",
      "46300\n",
      "46400\n",
      "46500\n",
      "46600\n",
      "46700\n",
      "46800\n",
      "46900\n",
      "47000\n",
      "47100\n",
      "47200\n",
      "47300\n",
      "47400\n",
      "47500\n",
      "47600\n",
      "47700\n",
      "47800\n",
      "47900\n",
      "48000\n",
      "48100\n",
      "48200\n",
      "48300\n",
      "48400\n",
      "48500\n",
      "48600\n",
      "48700\n",
      "48800\n",
      "48900\n",
      "49000\n",
      "49100\n",
      "49200\n",
      "49300\n",
      "49400\n",
      "49500\n",
      "49600\n",
      "49700\n",
      "49800\n",
      "49900\n",
      "50000\n"
     ]
    }
   ]
  },
  {
   "cell_type": "code",
   "source": [
    "pd.DataFrame(quest_ids).to_csv('colab_id_list_5.csv')\n",
    "pd.DataFrame(quest_dict).to_csv('colab_dict_list_5.csv')"
   ],
   "metadata": {
    "id": "b5xjNAGTrZSl"
   },
   "execution_count": null,
   "outputs": []
  },
  {
   "cell_type": "code",
   "source": [
    "quest_ids = []\n",
    "quest_dict = {}\n",
    "for i in range(50001, 60001):\n",
    "    if (i % 100) == 0:\n",
    "      print(i)\n",
    "    response = requests.get(f'https://eu.api.blizzard.com/data/wow/quest/{i}?namespace=static-eu&locale=en_US&access_token={token}')\n",
    "    if response.status_code == 200:\n",
    "      try:\n",
    "        title = response.json()['title']\n",
    "      except:\n",
    "        title = ''\n",
    "      try:\n",
    "        description  = response.json()['description']\n",
    "      except:\n",
    "        description = ''\n",
    "      quest_dict[i] = {'Title': title, 'Description': description}\n",
    "      quest_ids.append(i)"
   ],
   "metadata": {
    "id": "KNCufBytqtiN",
    "colab": {
     "base_uri": "https://localhost:8080/"
    },
    "outputId": "e4537b1b-2aef-47f2-d143-3c9e655149b7"
   },
   "execution_count": null,
   "outputs": [
    {
     "output_type": "stream",
     "name": "stdout",
     "text": [
      "56500\n",
      "56600\n",
      "56700\n",
      "56800\n",
      "56900\n",
      "57000\n",
      "57100\n",
      "57200\n",
      "57300\n",
      "57400\n",
      "57500\n",
      "57600\n",
      "57700\n",
      "57800\n",
      "57900\n",
      "58000\n",
      "58100\n",
      "58200\n",
      "58300\n",
      "58400\n",
      "58500\n",
      "58600\n",
      "58700\n",
      "58800\n",
      "58900\n",
      "59000\n",
      "59100\n",
      "59200\n",
      "59300\n",
      "59400\n",
      "59500\n",
      "59600\n",
      "59700\n",
      "59800\n",
      "59900\n",
      "60000\n"
     ]
    }
   ]
  },
  {
   "cell_type": "code",
   "source": [
    "pd.DataFrame(quest_ids).to_csv('colab_id_list_6.csv')\n",
    "pd.DataFrame(quest_dict).to_csv('colab_dict_list_6.csv')"
   ],
   "metadata": {
    "id": "PmaJOjydratC"
   },
   "execution_count": null,
   "outputs": []
  },
  {
   "cell_type": "code",
   "source": [
    "quest_ids = []\n",
    "quest_dict = {}\n",
    "for i in range(60000, 70001):\n",
    "    if (i % 100) == 0:\n",
    "      print(i)\n",
    "    response = requests.get(f'https://eu.api.blizzard.com/data/wow/quest/{i}?namespace=static-eu&locale=en_US&access_token={token}')\n",
    "    if response.status_code == 200:\n",
    "      try:\n",
    "        title = response.json()['title']\n",
    "      except:\n",
    "        title = ''\n",
    "      try:\n",
    "        description  = response.json()['description']\n",
    "      except:\n",
    "        description = ''\n",
    "      quest_dict[i] = {'Title': title, 'Description': description}\n",
    "      quest_ids.append(i)"
   ],
   "metadata": {
    "id": "JS7DYisXqtbs",
    "colab": {
     "base_uri": "https://localhost:8080/"
    },
    "outputId": "0cb93489-967d-4cf7-c34a-9b3ccb3901fd"
   },
   "execution_count": null,
   "outputs": [
    {
     "output_type": "stream",
     "name": "stdout",
     "text": [
      "67000\n",
      "67100\n",
      "67200\n",
      "67300\n",
      "67400\n",
      "67500\n",
      "67600\n",
      "67700\n",
      "67800\n",
      "67900\n",
      "68000\n",
      "68100\n",
      "68200\n",
      "68300\n",
      "68400\n",
      "68500\n",
      "68600\n",
      "68700\n",
      "68800\n",
      "68900\n",
      "69000\n",
      "69100\n",
      "69200\n",
      "69300\n",
      "69400\n",
      "69500\n",
      "69600\n",
      "69700\n",
      "69800\n",
      "69900\n",
      "70000\n"
     ]
    }
   ]
  },
  {
   "cell_type": "code",
   "source": [
    "pd.DataFrame(quest_ids).to_csv('colab_id_list_7.csv')\n",
    "pd.DataFrame(quest_dict).to_csv('colab_dict_list_7.csv')"
   ],
   "metadata": {
    "id": "eKnAydT0rcGE"
   },
   "execution_count": null,
   "outputs": []
  },
  {
   "cell_type": "code",
   "source": [
    "quest_ids = []\n",
    "quest_dict = {}\n",
    "#From wowhead, there are no quests above 78000 (As of 18/08/2023)\n",
    "for i in range(70001, 78001):\n",
    "    if (i % 100) == 0:\n",
    "      print(i)\n",
    "    response = requests.get(f'https://eu.api.blizzard.com/data/wow/quest/{i}?namespace=static-eu&locale=en_US&access_token={token}')\n",
    "    if response.status_code == 200:\n",
    "      try:\n",
    "        title = response.json()['title']\n",
    "      except:\n",
    "        title = ''\n",
    "      try:\n",
    "        description  = response.json()['description']\n",
    "      except:\n",
    "        description = ''\n",
    "      quest_dict[i] = {'Title': title, 'Description': description}\n",
    "      quest_ids.append(i)"
   ],
   "metadata": {
    "id": "JfkbK_2dH5RJ",
    "colab": {
     "base_uri": "https://localhost:8080/"
    },
    "outputId": "a50c8a3a-583f-4c6c-d9ea-b5ae75ac827d"
   },
   "execution_count": null,
   "outputs": [
    {
     "output_type": "stream",
     "name": "stdout",
     "text": [
      "70100\n",
      "70200\n",
      "70300\n",
      "70400\n",
      "70500\n",
      "70600\n",
      "70700\n",
      "70800\n",
      "70900\n",
      "71000\n",
      "71100\n",
      "71200\n",
      "71300\n",
      "71400\n",
      "71500\n",
      "71600\n",
      "71700\n",
      "71800\n",
      "71900\n",
      "72000\n",
      "72100\n",
      "72200\n",
      "72300\n",
      "72400\n",
      "72500\n",
      "72600\n",
      "72700\n",
      "72800\n",
      "72900\n",
      "73000\n",
      "73100\n",
      "73200\n",
      "73300\n",
      "73400\n",
      "73500\n",
      "73600\n",
      "73700\n",
      "73800\n",
      "73900\n",
      "74000\n",
      "74100\n",
      "74200\n",
      "74300\n",
      "74400\n",
      "74500\n",
      "74600\n",
      "74700\n",
      "74800\n",
      "74900\n",
      "75000\n",
      "75100\n",
      "75200\n",
      "75300\n",
      "75400\n",
      "75500\n",
      "75600\n",
      "75700\n",
      "75800\n",
      "75900\n",
      "76000\n",
      "76100\n",
      "76200\n",
      "76300\n",
      "76400\n",
      "76500\n",
      "76600\n",
      "76700\n",
      "76800\n",
      "76900\n",
      "77000\n",
      "77100\n",
      "77200\n",
      "77300\n",
      "77400\n",
      "77500\n",
      "77600\n",
      "77700\n",
      "77800\n",
      "77900\n",
      "78000\n"
     ]
    }
   ]
  },
  {
   "cell_type": "code",
   "source": [
    "pd.DataFrame(quest_ids).to_csv('colab_id_list_8.csv')\n",
    "pd.DataFrame(quest_dict).to_csv('colab_dict_list_8.csv')"
   ],
   "metadata": {
    "id": "0z1c8I_AH7s4"
   },
   "execution_count": null,
   "outputs": []
  }
 ]
}
