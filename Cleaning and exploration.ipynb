{
 "cells": [
  {
   "cell_type": "markdown",
   "source": [
    "# Taking a look at the data"
   ],
   "metadata": {
    "collapsed": false
   }
  },
  {
   "cell_type": "code",
   "execution_count": 2,
   "metadata": {
    "collapsed": true,
    "ExecuteTime": {
     "end_time": "2023-08-31T12:23:53.931480100Z",
     "start_time": "2023-08-31T12:23:53.513507200Z"
    }
   },
   "outputs": [],
   "source": [
    "import pandas as pd\n",
    "import numpy as np"
   ]
  },
  {
   "cell_type": "code",
   "execution_count": 3,
   "outputs": [],
   "source": [
    "#have these from API and web scraping\n",
    "local_docs = 78 #local is web scraping\n",
    "colab_docs = 8  #colab is api"
   ],
   "metadata": {
    "collapsed": false,
    "ExecuteTime": {
     "end_time": "2023-08-31T12:23:54.753431900Z",
     "start_time": "2023-08-31T12:23:54.741947800Z"
    }
   }
  },
  {
   "cell_type": "markdown",
   "source": [
    "### Put all gathered data into one dataframe"
   ],
   "metadata": {
    "collapsed": false
   }
  },
  {
   "cell_type": "code",
   "execution_count": 4,
   "outputs": [],
   "source": [
    "df = pd.DataFrame(columns =\n",
    "                  ['index', 'Quest ID', 'Quest Title',\n",
    "                   'Quest Description', 'Quest Summary', 'Quest Hand-in'])\n",
    "#Create dataframe"
   ],
   "metadata": {
    "collapsed": false,
    "ExecuteTime": {
     "end_time": "2023-08-31T12:23:55.847480100Z",
     "start_time": "2023-08-31T12:23:55.830001900Z"
    }
   }
  },
  {
   "cell_type": "code",
   "execution_count": 5,
   "outputs": [],
   "source": [
    "quest_id_arr = []\n",
    "quest_title_arr = []\n",
    "quest_summary_arr = []\n",
    "quest_description_arr = []\n",
    "quest_handin_arr = []\n",
    "for index in range(1, colab_docs+1):    #get the colab files\n",
    "    df_temp = pd.read_csv(f'colab_dict_list_{index}.csv')\n",
    "    df_temp.drop(df_temp.columns[0], axis = 1, inplace = True)\n",
    "    quest_id_arr.append(df_temp.columns)\n",
    "    quest_title_arr.append(df_temp.iloc[0].values.tolist())\n",
    "    quest_description_arr.append(df_temp.iloc[1].values.tolist())\n",
    "quest_title_arr = [item for list in quest_title_arr for item in list]\n",
    "quest_description_arr = [item for list in quest_description_arr for item in list]\n",
    "quest_id_arr = [item for list in quest_id_arr for item in list]\n",
    "quest_id_arr =[int(i) for i in quest_id_arr]\n",
    "for index in range(1, local_docs+1):\n",
    "    df_temp = pd.read_csv(f'quest_dict_list_{index}.csv')\n",
    "    df_temp.drop(df_temp.columns[0], axis = 1, inplace = True)\n",
    "    quest_summary_arr.append(df_temp.iloc[0].values.tolist())\n",
    "    quest_handin_arr.append(df_temp.iloc[1].values.tolist())\n",
    "quest_summary_arr = [item for list in quest_summary_arr for item in list]\n",
    "quest_handin_arr = [item for list in quest_handin_arr for item in list]\n",
    "quest_summary_arr = [quest_summary_arr[i-1] for i in quest_id_arr]\n",
    "quest_handin_arr = [quest_handin_arr[i-1] for i in quest_id_arr]\n"
   ],
   "metadata": {
    "collapsed": false,
    "ExecuteTime": {
     "end_time": "2023-08-31T12:24:00.842588100Z",
     "start_time": "2023-08-31T12:23:57.321566300Z"
    }
   }
  },
  {
   "cell_type": "code",
   "execution_count": 6,
   "outputs": [
    {
     "data": {
      "text/plain": "27793"
     },
     "execution_count": 6,
     "metadata": {},
     "output_type": "execute_result"
    }
   ],
   "source": [
    "len(quest_id_arr)"
   ],
   "metadata": {
    "collapsed": false,
    "ExecuteTime": {
     "end_time": "2023-08-31T12:24:08.147130800Z",
     "start_time": "2023-08-31T12:24:08.111516Z"
    }
   }
  },
  {
   "cell_type": "code",
   "execution_count": 5,
   "outputs": [
    {
     "data": {
      "text/plain": "[77429, 77430, 77432, 77437, 77679]"
     },
     "execution_count": 5,
     "metadata": {},
     "output_type": "execute_result"
    }
   ],
   "source": [
    "quest_id_arr[-5:]"
   ],
   "metadata": {
    "collapsed": false,
    "ExecuteTime": {
     "end_time": "2023-08-24T09:17:58.445414100Z",
     "start_time": "2023-08-24T09:17:58.411457500Z"
    }
   }
  },
  {
   "cell_type": "code",
   "execution_count": 6,
   "outputs": [],
   "source": [
    "df['Quest ID'] = quest_id_arr\n",
    "df['Quest Title'] = quest_title_arr\n",
    "df['Quest Description'] = quest_description_arr\n",
    "df['Quest Summary'] = quest_summary_arr\n",
    "df['Quest Hand-in'] = quest_handin_arr\n",
    "df['index'] = range(0, len(df))\n",
    "df.set_index('index', inplace = True)"
   ],
   "metadata": {
    "collapsed": false,
    "ExecuteTime": {
     "end_time": "2023-08-24T09:17:59.731513400Z",
     "start_time": "2023-08-24T09:17:59.675107700Z"
    }
   }
  },
  {
   "cell_type": "code",
   "execution_count": 240,
   "outputs": [
    {
     "data": {
      "text/plain": "       Quest ID            Quest Title  \\\nindex                                    \n0             2      Sharptalon's Claw   \n1            11  Riverpaw Gnoll Bounty   \n2            16    Give Gerard a Drink   \n3            23         Ursangous' Paw   \n4            24       Shadumbra's Head   \n\n                                       Quest Description  \\\nindex                                                      \n0      The mighty hippogryph Sharptalon has been slai...   \n1      Gnolls, brutish creatures with no decent busin...   \n2      Farming is thirsty work, and I'm always lookin...   \n3      The mighty bear Ursangous is no more!\\n\\nThe s...   \n4      The once swift Shadumbra now lies still as you...   \n\n                                         Quest Summary  \\\nindex                                                    \n0       What have you there, <class>? Could it be....?   \n1      Hail, <name>.  Have you been killing Gnolls...?   \n2                                                  NaN   \n3                                  What is it, <race>?   \n4                                        Yes, <class>?   \n\n                                           Quest Hand-in  \nindex                                                     \n0      You have slain the beast?I owe you a great deb...  \n1      I see you've been busy!  You have our thanks, ...  \n2      Thanks, <name>!  And come back if you want to ...  \n3      The paw of Ursangous!Have you any idea what tr...  \n4      Shadumbra's Head?None can say how many of our ...  ",
      "text/html": "<div>\n<style scoped>\n    .dataframe tbody tr th:only-of-type {\n        vertical-align: middle;\n    }\n\n    .dataframe tbody tr th {\n        vertical-align: top;\n    }\n\n    .dataframe thead th {\n        text-align: right;\n    }\n</style>\n<table border=\"1\" class=\"dataframe\">\n  <thead>\n    <tr style=\"text-align: right;\">\n      <th></th>\n      <th>Quest ID</th>\n      <th>Quest Title</th>\n      <th>Quest Description</th>\n      <th>Quest Summary</th>\n      <th>Quest Hand-in</th>\n    </tr>\n    <tr>\n      <th>index</th>\n      <th></th>\n      <th></th>\n      <th></th>\n      <th></th>\n      <th></th>\n    </tr>\n  </thead>\n  <tbody>\n    <tr>\n      <th>0</th>\n      <td>2</td>\n      <td>Sharptalon's Claw</td>\n      <td>The mighty hippogryph Sharptalon has been slai...</td>\n      <td>What have you there, &lt;class&gt;? Could it be....?</td>\n      <td>You have slain the beast?I owe you a great deb...</td>\n    </tr>\n    <tr>\n      <th>1</th>\n      <td>11</td>\n      <td>Riverpaw Gnoll Bounty</td>\n      <td>Gnolls, brutish creatures with no decent busin...</td>\n      <td>Hail, &lt;name&gt;.  Have you been killing Gnolls...?</td>\n      <td>I see you've been busy!  You have our thanks, ...</td>\n    </tr>\n    <tr>\n      <th>2</th>\n      <td>16</td>\n      <td>Give Gerard a Drink</td>\n      <td>Farming is thirsty work, and I'm always lookin...</td>\n      <td>NaN</td>\n      <td>Thanks, &lt;name&gt;!  And come back if you want to ...</td>\n    </tr>\n    <tr>\n      <th>3</th>\n      <td>23</td>\n      <td>Ursangous' Paw</td>\n      <td>The mighty bear Ursangous is no more!\\n\\nThe s...</td>\n      <td>What is it, &lt;race&gt;?</td>\n      <td>The paw of Ursangous!Have you any idea what tr...</td>\n    </tr>\n    <tr>\n      <th>4</th>\n      <td>24</td>\n      <td>Shadumbra's Head</td>\n      <td>The once swift Shadumbra now lies still as you...</td>\n      <td>Yes, &lt;class&gt;?</td>\n      <td>Shadumbra's Head?None can say how many of our ...</td>\n    </tr>\n  </tbody>\n</table>\n</div>"
     },
     "execution_count": 240,
     "metadata": {},
     "output_type": "execute_result"
    }
   ],
   "source": [
    "df.head()"
   ],
   "metadata": {
    "collapsed": false,
    "ExecuteTime": {
     "end_time": "2023-08-21T13:01:22.866505900Z",
     "start_time": "2023-08-21T13:01:22.852565800Z"
    }
   }
  },
  {
   "cell_type": "code",
   "execution_count": 241,
   "outputs": [],
   "source": [
    "#Creating the dataframe\n",
    "df.to_csv('Final Data.csv')"
   ],
   "metadata": {
    "collapsed": false,
    "ExecuteTime": {
     "end_time": "2023-08-21T13:02:14.296191100Z",
     "start_time": "2023-08-21T13:02:14.042746200Z"
    }
   }
  },
  {
   "cell_type": "markdown",
   "source": [
    "### Some data exploration"
   ],
   "metadata": {
    "collapsed": false
   }
  },
  {
   "cell_type": "code",
   "execution_count": 175,
   "outputs": [
    {
     "data": {
      "text/plain": "27793"
     },
     "execution_count": 175,
     "metadata": {},
     "output_type": "execute_result"
    }
   ],
   "source": [
    "len(df)"
   ],
   "metadata": {
    "collapsed": false,
    "ExecuteTime": {
     "end_time": "2023-08-21T12:52:02.022303500Z",
     "start_time": "2023-08-21T12:52:01.997670100Z"
    }
   }
  },
  {
   "cell_type": "code",
   "execution_count": 176,
   "outputs": [
    {
     "data": {
      "text/plain": "Quest ID                 0\nQuest Title              0\nQuest Description     2251\nQuest Summary        21019\nQuest Hand-in         4292\ndtype: int64"
     },
     "execution_count": 176,
     "metadata": {},
     "output_type": "execute_result"
    }
   ],
   "source": [
    "df.isna().sum()"
   ],
   "metadata": {
    "collapsed": false,
    "ExecuteTime": {
     "end_time": "2023-08-21T12:52:02.074425800Z",
     "start_time": "2023-08-21T12:52:02.014337600Z"
    }
   }
  },
  {
   "cell_type": "code",
   "execution_count": 177,
   "outputs": [
    {
     "data": {
      "text/plain": "Quest ID              int64\nQuest Title          object\nQuest Description    object\nQuest Summary        object\nQuest Hand-in        object\ndtype: object"
     },
     "execution_count": 177,
     "metadata": {},
     "output_type": "execute_result"
    }
   ],
   "source": [
    "df.dtypes"
   ],
   "metadata": {
    "collapsed": false,
    "ExecuteTime": {
     "end_time": "2023-08-21T12:52:02.090147700Z",
     "start_time": "2023-08-21T12:52:02.046353100Z"
    }
   }
  },
  {
   "cell_type": "code",
   "execution_count": 1,
   "outputs": [
    {
     "ename": "NameError",
     "evalue": "name 'df' is not defined",
     "output_type": "error",
     "traceback": [
      "\u001B[1;31m---------------------------------------------------------------------------\u001B[0m",
      "\u001B[1;31mNameError\u001B[0m                                 Traceback (most recent call last)",
      "Cell \u001B[1;32mIn[1], line 1\u001B[0m\n\u001B[1;32m----> 1\u001B[0m \u001B[38;5;28;01mfor\u001B[39;00m j \u001B[38;5;129;01min\u001B[39;00m \u001B[43mdf\u001B[49m\u001B[38;5;241m.\u001B[39mcolumns:\n\u001B[0;32m      2\u001B[0m     \u001B[38;5;28mprint\u001B[39m((\u001B[38;5;28mset\u001B[39m([\u001B[38;5;28mtype\u001B[39m(i) \u001B[38;5;28;01mfor\u001B[39;00m i \u001B[38;5;129;01min\u001B[39;00m df[\u001B[38;5;28mstr\u001B[39m(j)]])))\n",
      "\u001B[1;31mNameError\u001B[0m: name 'df' is not defined"
     ]
    }
   ],
   "source": [
    "for j in df.columns:\n",
    "    print((set([type(i) for i in df[str(j)]])))\n",
    "#have some non-string entries, presumably all NaN type for missing data"
   ],
   "metadata": {
    "collapsed": false,
    "ExecuteTime": {
     "end_time": "2023-08-31T11:19:27.260905700Z",
     "start_time": "2023-08-31T11:19:26.915096800Z"
    }
   }
  },
  {
   "cell_type": "markdown",
   "source": [
    "##### Run checks to ensure all non-string entries are NaN"
   ],
   "metadata": {
    "collapsed": false
   }
  },
  {
   "cell_type": "code",
   "execution_count": 8,
   "outputs": [],
   "source": [
    "float_desc = []\n",
    "for i in range (0, len(df)):\n",
    "    if type(df['Quest Description'].iloc[i]) != str:\n",
    "        if np.isnan(df['Quest Description'].iloc[i]):\n",
    "            continue\n",
    "        float_desc.append(i)"
   ],
   "metadata": {
    "collapsed": false,
    "ExecuteTime": {
     "end_time": "2023-08-24T09:31:09.356920200Z",
     "start_time": "2023-08-24T09:31:09.139536200Z"
    }
   }
  },
  {
   "cell_type": "code",
   "execution_count": 180,
   "outputs": [
    {
     "data": {
      "text/plain": "Empty DataFrame\nColumns: [Quest ID, Quest Title, Quest Description, Quest Summary, Quest Hand-in]\nIndex: []",
      "text/html": "<div>\n<style scoped>\n    .dataframe tbody tr th:only-of-type {\n        vertical-align: middle;\n    }\n\n    .dataframe tbody tr th {\n        vertical-align: top;\n    }\n\n    .dataframe thead th {\n        text-align: right;\n    }\n</style>\n<table border=\"1\" class=\"dataframe\">\n  <thead>\n    <tr style=\"text-align: right;\">\n      <th></th>\n      <th>Quest ID</th>\n      <th>Quest Title</th>\n      <th>Quest Description</th>\n      <th>Quest Summary</th>\n      <th>Quest Hand-in</th>\n    </tr>\n    <tr>\n      <th>index</th>\n      <th></th>\n      <th></th>\n      <th></th>\n      <th></th>\n      <th></th>\n    </tr>\n  </thead>\n  <tbody>\n  </tbody>\n</table>\n</div>"
     },
     "execution_count": 180,
     "metadata": {},
     "output_type": "execute_result"
    }
   ],
   "source": [
    "df.loc[float_desc]"
   ],
   "metadata": {
    "collapsed": false,
    "ExecuteTime": {
     "end_time": "2023-08-21T12:52:02.308486900Z",
     "start_time": "2023-08-21T12:52:02.292312Z"
    }
   }
  },
  {
   "cell_type": "code",
   "execution_count": 9,
   "outputs": [],
   "source": [
    "float_summ = []\n",
    "for i in range (0, len(df)):\n",
    "    if type(df['Quest Summary'].iloc[i]) != str:\n",
    "        if np.isnan(df['Quest Summary'].iloc[i]):\n",
    "            continue\n",
    "        float_summ.append(i)"
   ],
   "metadata": {
    "collapsed": false,
    "ExecuteTime": {
     "end_time": "2023-08-24T09:31:11.665845400Z",
     "start_time": "2023-08-24T09:31:11.284307700Z"
    }
   }
  },
  {
   "cell_type": "code",
   "execution_count": 182,
   "outputs": [
    {
     "data": {
      "text/plain": "Empty DataFrame\nColumns: [Quest ID, Quest Title, Quest Description, Quest Summary, Quest Hand-in]\nIndex: []",
      "text/html": "<div>\n<style scoped>\n    .dataframe tbody tr th:only-of-type {\n        vertical-align: middle;\n    }\n\n    .dataframe tbody tr th {\n        vertical-align: top;\n    }\n\n    .dataframe thead th {\n        text-align: right;\n    }\n</style>\n<table border=\"1\" class=\"dataframe\">\n  <thead>\n    <tr style=\"text-align: right;\">\n      <th></th>\n      <th>Quest ID</th>\n      <th>Quest Title</th>\n      <th>Quest Description</th>\n      <th>Quest Summary</th>\n      <th>Quest Hand-in</th>\n    </tr>\n    <tr>\n      <th>index</th>\n      <th></th>\n      <th></th>\n      <th></th>\n      <th></th>\n      <th></th>\n    </tr>\n  </thead>\n  <tbody>\n  </tbody>\n</table>\n</div>"
     },
     "execution_count": 182,
     "metadata": {},
     "output_type": "execute_result"
    }
   ],
   "source": [
    "df.loc[float_summ]"
   ],
   "metadata": {
    "collapsed": false,
    "ExecuteTime": {
     "end_time": "2023-08-21T12:52:02.673765200Z",
     "start_time": "2023-08-21T12:52:02.653453700Z"
    }
   }
  },
  {
   "cell_type": "code",
   "execution_count": 10,
   "outputs": [],
   "source": [
    "float_handin = []\n",
    "for i in range (0, len(df)):\n",
    "    if type(df['Quest Hand-in'].iloc[i]) != str:\n",
    "        if np.isnan(df['Quest Hand-in'].iloc[i]):\n",
    "            continue\n",
    "        float_handin.append(i)"
   ],
   "metadata": {
    "collapsed": false,
    "ExecuteTime": {
     "end_time": "2023-08-24T09:31:13.954298200Z",
     "start_time": "2023-08-24T09:31:13.725218900Z"
    }
   }
  },
  {
   "cell_type": "code",
   "execution_count": 184,
   "outputs": [
    {
     "data": {
      "text/plain": "Empty DataFrame\nColumns: [Quest ID, Quest Title, Quest Description, Quest Summary, Quest Hand-in]\nIndex: []",
      "text/html": "<div>\n<style scoped>\n    .dataframe tbody tr th:only-of-type {\n        vertical-align: middle;\n    }\n\n    .dataframe tbody tr th {\n        vertical-align: top;\n    }\n\n    .dataframe thead th {\n        text-align: right;\n    }\n</style>\n<table border=\"1\" class=\"dataframe\">\n  <thead>\n    <tr style=\"text-align: right;\">\n      <th></th>\n      <th>Quest ID</th>\n      <th>Quest Title</th>\n      <th>Quest Description</th>\n      <th>Quest Summary</th>\n      <th>Quest Hand-in</th>\n    </tr>\n    <tr>\n      <th>index</th>\n      <th></th>\n      <th></th>\n      <th></th>\n      <th></th>\n      <th></th>\n    </tr>\n  </thead>\n  <tbody>\n  </tbody>\n</table>\n</div>"
     },
     "execution_count": 184,
     "metadata": {},
     "output_type": "execute_result"
    }
   ],
   "source": [
    "df.loc[float_handin]"
   ],
   "metadata": {
    "collapsed": false,
    "ExecuteTime": {
     "end_time": "2023-08-21T12:52:02.920127100Z",
     "start_time": "2023-08-21T12:52:02.901852600Z"
    }
   }
  },
  {
   "cell_type": "code",
   "execution_count": 11,
   "outputs": [
    {
     "name": "stdout",
     "output_type": "stream",
     "text": [
      "Total characters for each text:\n",
      "Titles: 552283\n",
      "Descriptions: 8444675\n",
      "Summaries: 389169\n",
      "Hand-ins: 3095644\n"
     ]
    }
   ],
   "source": [
    "#look at total text lengths\n",
    "title_chars = 0\n",
    "desc_chars = 0\n",
    "summ_chars = 0\n",
    "handin_chars = 0\n",
    "for i in range (0, len(df)):\n",
    "    try:\n",
    "        title_chars += len(df['Quest Title'].iloc[i])\n",
    "    except:\n",
    "        pass\n",
    "    try:\n",
    "        desc_chars += len(df['Quest Description'].iloc[i])\n",
    "    except:\n",
    "        pass\n",
    "    try:\n",
    "        summ_chars += len(df['Quest Summary'].iloc[i])\n",
    "    except:\n",
    "        pass\n",
    "    try:\n",
    "        handin_chars += len(df['Quest Hand-in'].iloc[i])\n",
    "    except:\n",
    "        pass\n",
    "print(f'Total characters for each text:\\nTitles: {title_chars}\\nDescriptions: '\n",
    "      f'{desc_chars}\\nSummaries: {summ_chars}\\nHand-ins: {handin_chars}')"
   ],
   "metadata": {
    "collapsed": false,
    "ExecuteTime": {
     "end_time": "2023-08-24T09:31:16.527316100Z",
     "start_time": "2023-08-24T09:31:15.728722700Z"
    }
   }
  },
  {
   "cell_type": "code",
   "execution_count": 13,
   "outputs": [
    {
     "data": {
      "text/plain": "8996958"
     },
     "execution_count": 13,
     "metadata": {},
     "output_type": "execute_result"
    }
   ],
   "source": [
    "#total length of possible input for model\n",
    "title_chars+desc_chars"
   ],
   "metadata": {
    "collapsed": false,
    "ExecuteTime": {
     "end_time": "2023-08-24T09:31:48.128264500Z",
     "start_time": "2023-08-24T09:31:48.112726800Z"
    }
   }
  },
  {
   "cell_type": "code",
   "execution_count": 17,
   "outputs": [
    {
     "data": {
      "text/plain": "25542"
     },
     "execution_count": 17,
     "metadata": {},
     "output_type": "execute_result"
    }
   ],
   "source": [
    "#actual input is less because of empty descriptions\n",
    "i = 0\n",
    "for j in range(0, len(df)):\n",
    "    if type(df['Quest Description'].iloc[j]) == str:\n",
    "        i+=1\n",
    "i"
   ],
   "metadata": {
    "collapsed": false,
    "ExecuteTime": {
     "end_time": "2023-08-24T09:37:00.007405300Z",
     "start_time": "2023-08-24T09:36:59.800966700Z"
    }
   }
  },
  {
   "cell_type": "code",
   "execution_count": 12,
   "outputs": [
    {
     "data": {
      "text/plain": "12564457"
     },
     "execution_count": 12,
     "metadata": {},
     "output_type": "execute_result"
    }
   ],
   "source": [
    "full_text = ''\n",
    "for i in range (0, len(df)):\n",
    "    for col in df.columns[1:]:\n",
    "        try:\n",
    "            full_text = full_text+str(df[col].iloc[i])\n",
    "        except:\n",
    "            pass\n",
    "len(full_text)"
   ],
   "metadata": {
    "collapsed": false,
    "ExecuteTime": {
     "end_time": "2023-08-24T09:31:36.897221200Z",
     "start_time": "2023-08-24T09:31:21.571642200Z"
    }
   }
  },
  {
   "cell_type": "code",
   "execution_count": 187,
   "outputs": [
    {
     "name": "stdout",
     "output_type": "stream",
     "text": [
      "['\\n', '\\r', ' ', '!', '\"', '#', '$', '%', '&', \"'\", '(', ')', '*', '+', ',', '-', '.', '/', '0', '1', '2', '3', '4', '5', '6', '7', '8', '9', ':', ';', '<', '=', '>', '?', 'A', 'B', 'C', 'D', 'E', 'F', 'G', 'H', 'I', 'J', 'K', 'L', 'M', 'N', 'O', 'P', 'Q', 'R', 'S', 'T', 'U', 'V', 'W', 'X', 'Y', 'Z', '[', ']', '_', 'a', 'b', 'c', 'd', 'e', 'f', 'g', 'h', 'i', 'j', 'k', 'l', 'm', 'n', 'o', 'p', 'q', 'r', 's', 't', 'u', 'v', 'w', 'x', 'y', 'z', '{', '|', '}', '~', '\\xa0', 'ä', '�']\n",
      "96\n"
     ]
    }
   ],
   "source": [
    "print(sorted(set(full_text)))\n",
    "print(len(set(full_text)))"
   ],
   "metadata": {
    "collapsed": false,
    "ExecuteTime": {
     "end_time": "2023-08-21T12:52:15.688307900Z",
     "start_time": "2023-08-21T12:52:15.440544600Z"
    }
   }
  },
  {
   "cell_type": "code",
   "execution_count": 188,
   "outputs": [
    {
     "name": "stdout",
     "output_type": "stream",
     "text": [
      "{name}, a proud {race} {class}. I know your name and your deeds. I can taste your regrets and your shame.\r\n",
      "\r\n",
      "More importantly, I know what you might become. You can be the beacon for the Shadowlands to rally behind. The symbol my people need to set aside these petty squabbles and help fix the problems that afflict all reality.\r\n",
      "\r\n",
      "Before you stands the Court of Harvesters, my most loyal and trusted venthyr. Where once there were seven, only four remain. \r\n",
      "\r\n",
      "Introduce yourself to them, for where they go, my power follows\n",
      "524\n"
     ]
    }
   ],
   "source": [
    "max_desc = 0\n",
    "index = 0\n",
    "for i in range(0, len(df)):\n",
    "    try:\n",
    "        L = len(df['Quest Description'].iloc[i])\n",
    "        if L > max_desc:\n",
    "            max_desc = L\n",
    "            index = i\n",
    "    except:\n",
    "        pass\n",
    "print(df['Quest Description'].iloc[index])\n",
    "print(max_desc)"
   ],
   "metadata": {
    "collapsed": false,
    "ExecuteTime": {
     "end_time": "2023-08-21T12:52:15.877050100Z",
     "start_time": "2023-08-21T12:52:15.689307400Z"
    }
   }
  }
 ],
 "metadata": {
  "kernelspec": {
   "display_name": "Python 3",
   "language": "python",
   "name": "python3"
  },
  "language_info": {
   "codemirror_mode": {
    "name": "ipython",
    "version": 2
   },
   "file_extension": ".py",
   "mimetype": "text/x-python",
   "name": "python",
   "nbconvert_exporter": "python",
   "pygments_lexer": "ipython2",
   "version": "2.7.6"
  }
 },
 "nbformat": 4,
 "nbformat_minor": 0
}
